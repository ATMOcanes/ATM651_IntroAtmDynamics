{
 "cells": [
  {
   "cell_type": "markdown",
   "metadata": {},
   "source": [
    "<a name=\"top\"></a>\n",
    "\n",
    "<div style=\"width:1000 px\">\n",
    "\n",
    "<div style=\"float:right; width:300 px\"><img src=\"https://github.com/brianmapes/ATM407/blob/master/images/LMT_3.2.png?raw=true\" \n",
    "alt=\"LMT 3.2 exercise image\" style=\"height: 200px;\"></div>\n",
    "\n",
    "\n",
    "<h1>Exercise 3.2</h1>\n",
    "<h2>from Lackmann-Mapes-Tyle manual</h2>\n",
    "<h3>Brian Mapes, University of Miami</h3>\n",
    "\n",
    "* To launch: `source activate ATM651` to enter the course environment, then \n",
    " `pip install ipyidv` in this environment, then `jupyter notebook` and proceed.\n",
    "\n",
    "### Activities\n",
    "1. <a href=\"#Exercise1\">Read background</a>\n",
    "1. <a href=\"#Exercise2\">Load the IDV bundle</a>\n",
    "1. <a href=\"#Exercise3\">Exercise: Where do you expect upward motion from flow up a θ surface?</a>\n",
    "1. <a href=\"#Exercise4\">Exercise: Repeat for a higher altitude (600 hPa, 310K)</a>\n",
    "\n",
    "<div style=\"clear:both\"></div>\n",
    "</div>\n",
    "\n",
    "<hr style=\"height:2px;\">"
   ]
  },
  {
   "cell_type": "markdown",
   "metadata": {},
   "source": [
    "<a name=\"Exercise1\"></a> \n",
    "## Background\n",
    "\n",
    "Isentropic surfaces (also termed theta or θ surfaces) can be defined everywhere, at any instant, except where the surface temperature exceeds the θ value of a given surface (that is, the surface is “underground” and fictitious).\n",
    "Two main properties of potential temperature (θ) make it useful to think about θ surfaces. First, θ always increases with height in a statically stable atmosphere.* As a consequence,\n",
    "θ surfaces are stacked vertically, and can be used as a vertical coordinate. Second, θ is conserved for adiabatic motion. Adiabatic flow is often an accurate approximation for anticyclones and other areas of the atmosphere without strong upward air motion, and\n",
    "it is sometimes a reasonable approximation for winter storms where condensation, radiation, and other diabatic heating and cooling effects are much weaker than temperature advection by the storm’s winds. In that case, air parcels tend to stay on the same theta surface, so that vertical motion can be qualitatively estimated at an instant by assessing whether the horizontal winds are carrying air parcels up or down the local slope of their θ surface. The weakness of this view is that the topography of θ surfaces is itself always moving and changing. Still, the upward slope of θ surfaces toward the pole tends to prevail in most circumstances, so that poleward flow tends to ascend. Also, storm-related topographic features of a θ surface can sometimes be viewed as having a constant shape, translating with a constant speed (the “frozen wave” approximation; see MSM section 3.3). In this view, the upslope or downslope component of wind relative to these long-lived but perhaps moving slope features on a θ surface can still be interpreted as indicative of vertical motion, giving us a way of predicting or explaining cloudy versus clear weather conditions.\n",
    "\n",
    "* In well-mixed layers of neutral static stability, potential temperature is constant with height. If it decreases with height, that layer would immediately undergo vigorous overturning or mixing. However these ex- ceptions are rarely found in synoptic-scale weather systems, in midlatitude locations, above the planetary boundary layer.\n",
    "\n",
    "\n",
    "<hr style=\"height:2px;\">"
   ]
  },
  {
   "cell_type": "markdown",
   "metadata": {},
   "source": [
    "## Objectives and learning outcomes\n",
    "\n",
    "The objectives of this lesson are to explore air parcel trajectories in the vicinity of a winter storm, and evaluate their consistency with the idealized “conveyor belt” view of air gliding upward and downward along the sloping isentropic surfaces around a cool-core mid- latitude cyclone. Learning outcomes include 1) comparing 3D air parcel trajectories to the adiabatic approximation that air stays on isentropic surfaces and 2) interpreting vertical motion and trajectories within the context of the conveyor belt model.\n",
    "\n",
    "----------------"
   ]
  },
  {
   "cell_type": "markdown",
   "metadata": {},
   "source": [
    "## Launch the IDV and load bundle LMT_3.2\n",
    "\n",
    "You may recognize the case (18–21 December 2009) from the LMT_2.2 bundle from chapter 2. Notice the small red crosses along the line where the 850-hPa surface meets the 298-K surface (the heavy red contour). These points at 850 hPa are the starting points for 3D air parcel trajectories.\n",
    "\n",
    "West of the low center, the horizontal winds are blowing toward the south or southeast, a direction that moves air down the slope of the isentropic surface. East of the center, the winds are blowing northward, into (or up) the slope of the isentropic surface. By advancing the animation’s time control, you will see how well the altitude of the 3D trajectories (expressed on the same color scale as the height of the 298-K surface) supports the idea that air tends to conserve its θ = 298 K as it flows along the sloping isentropic surface."
   ]
  },
  {
   "cell_type": "markdown",
   "metadata": {},
   "source": [
    "<hr style=\"height:2px;\">\n",
    "<a href=\"#top\">Top</a>\n",
    "<hr style=\"height:2px;\">"
   ]
  },
  {
   "cell_type": "markdown",
   "metadata": {},
   "source": [
    "<a name=\"Exercise2\"></a> \n",
    "## Load the ipyidv extension, and load the LMT_3.2 bundle in IDV\n",
    "\n",
    "### Execute the code cell below. \n",
    "\n",
    "### Then, launch an IDV session and load the bundle in it. \n",
    "\n",
    "You can do this manually, or in the widget that pops up search The Mapes IDV Collection for *LMT_3.2*, and click the button next to it labeled **Load bundle**. "
   ]
  },
  {
   "cell_type": "code",
   "execution_count": 9,
   "metadata": {},
   "outputs": [
    {
     "data": {
      "application/vnd.jupyter.widget-view+json": {
       "model_id": "4c8f39c868814b9bb5494f2c6d7d7cc8",
       "version_major": 2,
       "version_minor": 0
      },
      "text/plain": [
       "VBox(children=(HTML(value='<h3>ipython_IDV Control Panel</h3>'), HBox(children=(HTML(value='<b>Resources:</b>'…"
      ]
     },
     "metadata": {},
     "output_type": "display_data"
    }
   ],
   "source": [
    "%reload_ext ipyidv"
   ]
  },
  {
   "cell_type": "markdown",
   "metadata": {},
   "source": [
    "# How to capture images and movies"
   ]
  },
  {
   "cell_type": "code",
   "execution_count": 12,
   "metadata": {},
   "outputs": [],
   "source": [
    "# these commands in code cells:  \n",
    "#%make_image -capture legend -caption 'caption ...'\n",
    "#%make_movie -capture legend -caption 'caption ...'"
   ]
  },
  {
   "cell_type": "markdown",
   "metadata": {},
   "source": [
    "<hr style=\"height:2px;\">\n",
    "<a href=\"#top\">Top</a>\n",
    "<hr style=\"height:2px;\">"
   ]
  },
  {
   "cell_type": "markdown",
   "metadata": {},
   "source": [
    "<a name=\"Exercise3\"></a> \n",
    "<div class=\"alert alert-success\">\n",
    "    <b>EXERCISE</b>:\n",
    "     <ul>\n",
    "      <li>**Capture image, explain: where do you expect upward motion, adiabatically**\n",
    "      </li>\n",
    "    </ul>\n",
    "</div> "
   ]
  },
  {
   "cell_type": "code",
   "execution_count": 7,
   "metadata": {},
   "outputs": [],
   "source": [
    "# Your image \n",
    "%make_image -capture legend -caption 'Winds go uphill on θ surface at FLs northern border'"
   ]
  },
  {
   "cell_type": "markdown",
   "metadata": {
    "collapsed": true
   },
   "source": [
    "## Exercise a): \n",
    "\n",
    "To check your expectation, switch on the display for omega at the 850-hPa level (you may need to turn off the theta surface to improve visibility). Do areas of ascent match expectations? Explain.\n",
    "\n",
    "-->"
   ]
  },
  {
   "cell_type": "code",
   "execution_count": null,
   "metadata": {},
   "outputs": [],
   "source": [
    "#%make_image -capture legend -caption 'Omega field AGREES OR DISAGREES W/ ABOVE LOGIC?'"
   ]
  },
  {
   "cell_type": "markdown",
   "metadata": {},
   "source": [
    "## Exercise b):\n",
    "\n",
    "Zoom out and step through the time sequence. How well does 850-hPa omega along the thick red 850-hPa–298-K intersection line agree with the isentropic reasoning? Are there places and times where the omega is opposite in sign to that from isentropic reasoning?\n",
    "\n",
    "--> "
   ]
  },
  {
   "cell_type": "code",
   "execution_count": null,
   "metadata": {},
   "outputs": [],
   "source": [
    "#%make_image -capture legend -caption 'Omega field AGREES OR DISAGREES W/ ABOVE LOGIC?'"
   ]
  },
  {
   "cell_type": "code",
   "execution_count": null,
   "metadata": {},
   "outputs": [],
   "source": [
    "#%make_image -capture legend -caption 'Omega field AGREES OR DISAGREES W/ ABOVE LOGIC?'"
   ]
  },
  {
   "cell_type": "markdown",
   "metadata": {},
   "source": [
    "## Exercise c) \n",
    "\n",
    "Set the time to 0000 UTC 20 December 2009. Rotate the display to see a 3D view of the trajectories and isentropic surface, like the view from the south (use the box icon with its south face blue) \n",
    "\n",
    "For the eastern portion of the trajectories, note that they rise above the 298-K isentropic surface. What physical processes could explain these non-isentropic air parcel excursions? How did some of the deep blue trajectories get so far above the isentropic surface? Jump back to the top view (Home icon) and find the time and place where these steep ascents occurred. Does the IR satellite display give any indications about the weather in that area?\n"
   ]
  },
  {
   "cell_type": "code",
   "execution_count": 6,
   "metadata": {},
   "outputs": [],
   "source": [
    "#%make_image -capture legend -caption 'Trajectories rose above θ surface, by ...'"
   ]
  },
  {
   "cell_type": "markdown",
   "metadata": {},
   "source": [
    "<a href=\"#top\">Top</a>\n",
    "<hr style=\"height:2px;\">"
   ]
  },
  {
   "cell_type": "markdown",
   "metadata": {},
   "source": [
    "<a name=\"Exercise4\"></a> \n",
    "<div class=\"alert alert-success\">\n",
    "    <b>EXERCISE</b>:\n",
    "     <ul>\n",
    "      <li>**Repeat the exercise at another altitude**\n",
    "      </li>\n",
    "    </ul>\n",
    "</div>"
   ]
  },
  {
   "cell_type": "markdown",
   "metadata": {},
   "source": [
    "# How to change altitudes:\n",
    "\n",
    "Change the level of the height of p surface, flowvectors, and Omega displays to 600hPa,by clicking each of these three links in the Legend and adjusting the Levels menu in the corresponding Display Control on the Dashboard. Then change the 3D surface theta display to an isosurface value of 310 K, again by clicking its Legend link and adjusting its Display Control. \n",
    "\n",
    "### How well does “flow up and down the isentrope” reasoning explain the omega field at 600 hPa in this case? Discuss."
   ]
  },
  {
   "cell_type": "code",
   "execution_count": 6,
   "metadata": {},
   "outputs": [],
   "source": [
    "#%make_image -capture legend -caption 'Uphill flow is seen (where?), ... '"
   ]
  },
  {
   "cell_type": "markdown",
   "metadata": {},
   "source": [
    "## Discussion\n",
    "\n",
    "REPLACE THIS TEXT "
   ]
  },
  {
   "cell_type": "markdown",
   "metadata": {},
   "source": [
    "# Make new trajectories: \n",
    "\n",
    "Launch new trajectories along the intersection of your new p and theta surfaces. To do this, click the Trajectory display’s blue link in the Legend to bring up its Controls in the Dashboard window. First, use the Levels menu to select the new starting altitude (600 hPa). For Trajectory Initial Area, choose Points. Now go to the Map View window and use the left mouse button to select a set of points along the intersection of your omega field at 600 hPa and the theta surface. Your mouse clicks won’t be visible, so avoid over- clicking. About 10–20 points should suffice.\n",
    "\n",
    "When you have enough points, zoom out (since trajectories are not visualized outside your initial view region), and click Create Trajectory. Now as you advance the time counter, your trajectories should be visible. Some may be hidden by other displays, so toggle off other display layers to see more clearly. To change trajectory colors, click the Trajectory display in the Legend to bring up the display control in the Dashboard. Click the Color Table button and Change Range to [−1000, 6000] to make the trajectory colors match the coloration of the height of the theta surface. Other ways to aid visualization include jumping to a side view and rotating the display a bit by dragging with the right mouse button pressed."
   ]
  },
  {
   "cell_type": "code",
   "execution_count": 6,
   "metadata": {},
   "outputs": [],
   "source": [
    "#%make_image -capture legend -caption 'Trajectories did/didnt follow θ surface ...'"
   ]
  },
  {
   "cell_type": "code",
   "execution_count": null,
   "metadata": {},
   "outputs": [],
   "source": [
    "#%make_movie -capture legend -caption 'Trajectories did/didnt follow θ surface ...'"
   ]
  },
  {
   "cell_type": "markdown",
   "metadata": {
    "collapsed": true
   },
   "source": [
    "### Do you find air parcels that go in surprising directions? Do more parcels go far above the isentrope than far below it? Can you explain these excursions, in terms of the properties of diabatic processes?"
   ]
  },
  {
   "cell_type": "markdown",
   "metadata": {},
   "source": [
    "## Discussion, more images, ...  \n",
    "\n",
    "REPLACE THIS TEXT"
   ]
  },
  {
   "cell_type": "markdown",
   "metadata": {},
   "source": [
    "<hr style=\"height:2px;\">\n",
    "<a href=\"#top\">Top</a>\n",
    "<hr style=\"height:2px;\">"
   ]
  },
  {
   "cell_type": "code",
   "execution_count": null,
   "metadata": {},
   "outputs": [],
   "source": [
    "# Wikipedia image\n",
    "from IPython.display import Image\n",
    "Image(\"an image URL goes here\")\n"
   ]
  },
  {
   "cell_type": "markdown",
   "metadata": {},
   "source": [
    "# Upload this notebook to your GitHub fork."
   ]
  },
  {
   "cell_type": "markdown",
   "metadata": {},
   "source": [
    "<a href=\"#top\">Top</a>\n",
    "<hr style=\"height:2px;\">"
   ]
  }
 ],
 "metadata": {
  "anaconda-cloud": {},
  "kernelspec": {
   "display_name": "Python 3",
   "language": "python",
   "name": "python3"
  },
  "language_info": {
   "codemirror_mode": {
    "name": "ipython",
    "version": 3
   },
   "file_extension": ".py",
   "mimetype": "text/x-python",
   "name": "python",
   "nbconvert_exporter": "python",
   "pygments_lexer": "ipython3",
   "version": "3.6.5"
  },
  "widgets": {
   "state": {
    "bcdf933568754ca588f0124814958a04": {
     "views": [
      {
       "cell_index": 7
      }
     ]
    }
   },
   "version": "1.2.0"
  }
 },
 "nbformat": 4,
 "nbformat_minor": 1
}
