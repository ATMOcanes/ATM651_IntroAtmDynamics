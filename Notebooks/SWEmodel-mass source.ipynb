{
 "cells": [
  {
   "cell_type": "markdown",
   "metadata": {},
   "source": [
    "### ATM 651 Introduction of Atmospheric Dynamics: Project option\n",
    "University of Miami, RSMAS. 2019 Fall \n",
    "### 2D Shallow water equation model \n",
    "This notebook is adapted from [Dr. Paul Connally's webpage.](https://personalpages.manchester.ac.uk/staff/paul.connolly/teaching/practicals/shallow_water_equations.html)\n",
    "This model integrates the [shallow water equations](https://en.wikipedia.org/wiki/Shallow_water_equations) in conservative form in a channel using the [Lax-Wendroff method](https://en.wikipedia.org/wiki/Lax%E2%80%93Wendroff_method), a numerical method for the solution of hyperbolic partial differential equations, based on [finite differences](https://en.wikipedia.org/wiki/Finite_difference_method). It is second-order accurate in both space and time."
   ]
  },
  {
   "cell_type": "code",
   "execution_count": 56,
   "metadata": {},
   "outputs": [],
   "source": [
    "import numpy as np\n",
    "import sys\n",
    "import os\n",
    "from scipy.special import erfcinv as erfcinv\n",
    "import tqdm as tqdm  # pause jupyter and pip install tqdm if necessary\n",
    "import time\n",
    "import scipy.io as sio\n",
    "import lax_wendroff_Hsrc as lw"
   ]
  },
  {
   "cell_type": "code",
   "execution_count": 57,
   "metadata": {},
   "outputs": [],
   "source": [
    "import warnings\n",
    "warnings.simplefilter(\"ignore\")"
   ]
  },
  {
   "cell_type": "markdown",
   "metadata": {},
   "source": [
    "### Main code\n",
    "There are options for different simulations and flexible parameters"
   ]
  },
  {
   "cell_type": "code",
   "execution_count": 64,
   "metadata": {},
   "outputs": [
    {
     "data": {
      "text/plain": [
       "31.32091952673165"
      ]
     },
     "execution_count": 64,
     "metadata": {},
     "output_type": "execute_result"
    }
   ],
   "source": [
    "# SECTION 0: Definitions (normally don't modify this section)\n",
    "# Possible orographies\n",
    "FLAT=0;\n",
    "SLOPE=1;\n",
    "GAUSSIAN_MOUNTAIN=2;\n",
    "EARTH_OROGRAPHY=3;\n",
    "SEA_MOUNT=4;\n",
    "\n",
    "# ------------------------------------------------------------------\n",
    "# SECTION 1: Configuration\n",
    "g    = 9.81;                # Acceleration due to gravity (m/s2)\n",
    "f    = 1e-4;              # Coriolis parameter (s-1)\n",
    "\n",
    "#f=0.;\n",
    "beta = 1.6e-11;             # Meridional gradient of f (s-1m-1)\n",
    "#beta=0.;\n",
    "#beta=5e-10;\n",
    "\n",
    "output_interval = 24.*3600.; # Time between outputs (s)\n",
    "forecast_length = 100*24*3600.0; # Forecast length (s)\n",
    "\n",
    "orography = FLAT\n",
    "initially_geostrophic = True;   # Can be \"True\" or \"False\"\n",
    "add_random_height_noise = False; # Can be \"True\" or \"False\"\n",
    "\n",
    "nx=254; # Number of zonal gridpoints\n",
    "ny=128;  # Number of meridional gridpoints\n",
    "\n",
    "dx=100.0e3; # Zonal grid spacing (m)\n",
    "dy=dx;      # Meridional grid spacing\n",
    "\n",
    "\n",
    "# ------------------------------------------------------------------\n",
    "# SECTION 2: Act on the configuration information\n",
    "\n",
    "# Set up grid and output arrays \n",
    "nt = int(np.fix(forecast_length/dt)+1); # Number of timesteps\n",
    "timesteps_between_outputs = np.fix(output_interval/dt);\n",
    "noutput = int(np.ceil(nt/timesteps_between_outputs)); # Number of output frames\n",
    "\n",
    "x=np.mgrid[0:nx]*dx; # Zonal distance coordinate (m)\n",
    "y=np.mgrid[0:ny]*dy; # Meridional distance coordinate (m)\n",
    "[Y,X] = np.meshgrid(y,x); # Create matrices of the coordinate variables\n",
    "\n",
    "# Create the orography field \"H\"\n",
    "if orography == FLAT:\n",
    "    H = np.zeros((nx, ny));\n",
    "\n",
    "# Create the initial height field (in meters)\n",
    "height = 100.*np.ones((nx, ny))\n",
    "\n",
    "# Specify the range of heights to plot in metres\n",
    "plot_height_range = np.array([95., 105.]);\n",
    "\n",
    "# Linear wave speed \n",
    "cgrav = np.sqrt(g*np.mean(height))\n",
    "cgrav"
   ]
  },
  {
   "cell_type": "code",
   "execution_count": 65,
   "metadata": {},
   "outputs": [
    {
     "data": {
      "text/plain": [
       "319.27542840705047"
      ]
     },
     "execution_count": 65,
     "metadata": {},
     "output_type": "execute_result"
    }
   ],
   "source": [
    "dt = dx/cgrav /10. # factor of 5 for safe time integration\n",
    "dt"
   ]
  },
  {
   "cell_type": "code",
   "execution_count": 66,
   "metadata": {},
   "outputs": [
    {
     "name": "stdout",
     "output_type": "stream",
     "text": [
      "Time = 0.000000 hours (max 100.000000); max(|u|) = 0.000000\n",
      "Time = 23.945657 hours (max 100.000000); max(|u|) = 0.125391\n",
      "Time = 47.891314 hours (max 100.000000); max(|u|) = 0.225913\n",
      "Time = 71.836971 hours (max 100.000000); max(|u|) = 0.320242\n",
      "Time = 95.782629 hours (max 100.000000); max(|u|) = 0.406860\n",
      "Time = 119.728286 hours (max 100.000000); max(|u|) = 0.484184\n",
      "Time = 143.673943 hours (max 100.000000); max(|u|) = 0.557486\n",
      "Time = 167.619600 hours (max 100.000000); max(|u|) = 0.625188\n",
      "Time = 191.565257 hours (max 100.000000); max(|u|) = 0.685689\n",
      "Time = 215.510914 hours (max 100.000000); max(|u|) = 0.741894\n",
      "Time = 239.456571 hours (max 100.000000); max(|u|) = 0.789575\n",
      "Time = 263.402228 hours (max 100.000000); max(|u|) = 0.838630\n",
      "Time = 287.347886 hours (max 100.000000); max(|u|) = 0.876809\n",
      "Time = 311.293543 hours (max 100.000000); max(|u|) = 0.910897\n",
      "Time = 335.239200 hours (max 100.000000); max(|u|) = 0.942276\n",
      "Time = 359.184857 hours (max 100.000000); max(|u|) = 0.963579\n",
      "Time = 383.130514 hours (max 100.000000); max(|u|) = 1.041114\n",
      "Time = 407.076171 hours (max 100.000000); max(|u|) = 1.084455\n",
      "Time = 431.021828 hours (max 100.000000); max(|u|) = 1.015843\n",
      "Time = 454.967485 hours (max 100.000000); max(|u|) = 1.032376\n",
      "Time = 478.913143 hours (max 100.000000); max(|u|) = 1.043088\n",
      "Time = 502.858800 hours (max 100.000000); max(|u|) = 1.066910\n",
      "Time = 526.804457 hours (max 100.000000); max(|u|) = 1.061075\n",
      "Time = 550.750114 hours (max 100.000000); max(|u|) = 1.069473\n",
      "Time = 574.695771 hours (max 100.000000); max(|u|) = 1.067268\n",
      "Time = 598.641428 hours (max 100.000000); max(|u|) = 1.070737\n",
      "Time = 622.587085 hours (max 100.000000); max(|u|) = 1.073092\n",
      "Time = 646.532743 hours (max 100.000000); max(|u|) = 1.070778\n",
      "Time = 670.478400 hours (max 100.000000); max(|u|) = 1.066562\n",
      "Time = 694.424057 hours (max 100.000000); max(|u|) = 1.528314\n",
      "Time = 718.369714 hours (max 100.000000); max(|u|) = 2.025333\n",
      "Time = 742.315371 hours (max 100.000000); max(|u|) = 2.772242\n",
      "Time = 766.261028 hours (max 100.000000); max(|u|) = 4.206022\n",
      "Time = 790.206685 hours (max 100.000000); max(|u|) = 7.611609\n",
      "Time = 814.152342 hours (max 100.000000); max(|u|) = 12.265489\n",
      "Time = 838.098000 hours (max 100.000000); max(|u|) = 11.432846\n",
      "Time = 862.043657 hours (max 100.000000); max(|u|) = 15.158315\n",
      "Time = 885.989314 hours (max 100.000000); max(|u|) = 18.076522\n",
      "Time = 909.934971 hours (max 100.000000); max(|u|) = 20.365335\n",
      "Time = 933.880628 hours (max 100.000000); max(|u|) = 24.640470\n",
      "Time = 957.826285 hours (max 100.000000); max(|u|) = 29.291837\n",
      "Time = 981.771942 hours (max 100.000000); max(|u|) = 30.992991\n",
      "Time = 1005.717599 hours (max 100.000000); max(|u|) = 80.821165\n",
      "Time = 1029.663257 hours (max 100.000000); max(|u|) = nan\n",
      "Time = 1053.608914 hours (max 100.000000); max(|u|) = nan\n",
      "Time = 1077.554571 hours (max 100.000000); max(|u|) = nan\n",
      "Time = 1101.500228 hours (max 100.000000); max(|u|) = nan\n",
      "Time = 1125.445885 hours (max 100.000000); max(|u|) = nan\n",
      "Time = 1149.391542 hours (max 100.000000); max(|u|) = nan\n",
      "Time = 1173.337199 hours (max 100.000000); max(|u|) = nan\n",
      "Time = 1197.282857 hours (max 100.000000); max(|u|) = nan\n",
      "Time = 1221.228514 hours (max 100.000000); max(|u|) = nan\n",
      "Time = 1245.174171 hours (max 100.000000); max(|u|) = nan\n",
      "Time = 1269.119828 hours (max 100.000000); max(|u|) = nan\n",
      "Time = 1293.065485 hours (max 100.000000); max(|u|) = nan\n",
      "Time = 1317.011142 hours (max 100.000000); max(|u|) = nan\n",
      "Time = 1340.956799 hours (max 100.000000); max(|u|) = nan\n",
      "Time = 1364.902456 hours (max 100.000000); max(|u|) = nan\n",
      "Time = 1388.848114 hours (max 100.000000); max(|u|) = nan\n",
      "Time = 1412.793771 hours (max 100.000000); max(|u|) = nan\n",
      "Time = 1436.739428 hours (max 100.000000); max(|u|) = nan\n",
      "Time = 1460.685085 hours (max 100.000000); max(|u|) = nan\n",
      "Time = 1484.630742 hours (max 100.000000); max(|u|) = nan\n",
      "Time = 1508.576399 hours (max 100.000000); max(|u|) = nan\n",
      "Time = 1532.522056 hours (max 100.000000); max(|u|) = nan\n",
      "Time = 1556.467713 hours (max 100.000000); max(|u|) = nan\n",
      "Time = 1580.413371 hours (max 100.000000); max(|u|) = nan\n",
      "Time = 1604.359028 hours (max 100.000000); max(|u|) = nan\n",
      "Time = 1628.304685 hours (max 100.000000); max(|u|) = nan\n",
      "Time = 1652.250342 hours (max 100.000000); max(|u|) = nan\n",
      "Time = 1676.195999 hours (max 100.000000); max(|u|) = nan\n",
      "Time = 1700.141656 hours (max 100.000000); max(|u|) = nan\n",
      "Time = 1724.087313 hours (max 100.000000); max(|u|) = nan\n",
      "Time = 1748.032971 hours (max 100.000000); max(|u|) = nan\n",
      "Time = 1771.978628 hours (max 100.000000); max(|u|) = nan\n",
      "Time = 1795.924285 hours (max 100.000000); max(|u|) = nan\n",
      "Time = 1819.869942 hours (max 100.000000); max(|u|) = nan\n",
      "Time = 1843.815599 hours (max 100.000000); max(|u|) = nan\n",
      "Time = 1867.761256 hours (max 100.000000); max(|u|) = nan\n",
      "Time = 1891.706913 hours (max 100.000000); max(|u|) = nan\n",
      "Time = 1915.652570 hours (max 100.000000); max(|u|) = nan\n",
      "Time = 1939.598228 hours (max 100.000000); max(|u|) = nan\n",
      "Time = 1963.543885 hours (max 100.000000); max(|u|) = nan\n",
      "Time = 1987.489542 hours (max 100.000000); max(|u|) = nan\n",
      "Time = 2011.435199 hours (max 100.000000); max(|u|) = nan\n",
      "Time = 2035.380856 hours (max 100.000000); max(|u|) = nan\n",
      "Time = 2059.326513 hours (max 100.000000); max(|u|) = nan\n",
      "Time = 2083.272170 hours (max 100.000000); max(|u|) = nan\n",
      "Time = 2107.217827 hours (max 100.000000); max(|u|) = nan\n",
      "Time = 2131.163485 hours (max 100.000000); max(|u|) = nan\n",
      "Time = 2155.109142 hours (max 100.000000); max(|u|) = nan\n",
      "Time = 2179.054799 hours (max 100.000000); max(|u|) = nan\n",
      "Time = 2203.000456 hours (max 100.000000); max(|u|) = nan\n",
      "Time = 2226.946113 hours (max 100.000000); max(|u|) = nan\n",
      "Time = 2250.891770 hours (max 100.000000); max(|u|) = nan\n",
      "Time = 2274.837427 hours (max 100.000000); max(|u|) = nan\n",
      "Time = 2298.783085 hours (max 100.000000); max(|u|) = nan\n",
      "Time = 2322.728742 hours (max 100.000000); max(|u|) = nan\n",
      "Time = 2346.674399 hours (max 100.000000); max(|u|) = nan\n",
      "Time = 2370.620056 hours (max 100.000000); max(|u|) = nan\n",
      "Time = 2394.565713 hours (max 100.000000); max(|u|) = nan\n",
      "Run completed successfully\n"
     ]
    }
   ],
   "source": [
    "# Coriolis parameter as a matrix of values varying in y only\n",
    "F = f+beta*(Y-np.mean(y));\n",
    "\n",
    "# Initialize the wind to rest\n",
    "u=np.zeros((nx, ny));\n",
    "v=np.zeros((nx, ny));\n",
    "\n",
    "# Define h as the depth of the fluid (whereas \"height\" is the height of\n",
    "# the upper surface)\n",
    "h = height - H;\n",
    "\n",
    "# Initialize the 3D arrays where the output data will be stored\n",
    "u_save = np.zeros((nx, ny, noutput));\n",
    "v_save = np.zeros((nx, ny, noutput));\n",
    "h_save = np.zeros((nx, ny, noutput));\n",
    "t_save = np.zeros((noutput,1));\n",
    "\n",
    "# Index to stored data\n",
    "i_save = 0;\n",
    "\n",
    "# external heat source adding to h equation\n",
    "hsrc = H.copy()\n",
    "hsrc[np.where(np.sqrt((X-np.mean(x))**2.+(Y-np.mean(y))**2.) <= 1000e3)] = 1E-5 # m/s\n",
    "\n",
    "# ------------------------------------------------------------------\n",
    "# SECTION 3: Main loop\n",
    "for n in range(0,nt):\n",
    "   # Every fixed number of timesteps we store the fields\n",
    "    if np.mod(n,timesteps_between_outputs) == 0:\n",
    "   \n",
    "        max_u = np.sqrt(np.max(u[:]*u[:]+v[:]*v[:]));\n",
    "      \n",
    "        print(\"Time = %f hours (max %f); max(|u|) = %f\"  \n",
    "           % ((n)*dt/3600., forecast_length/3600./24., max_u) )\n",
    "   \n",
    "        u_save[:,:,i_save] = u;\n",
    "        v_save[:,:,i_save] = v;\n",
    "        h_save[:,:,i_save] = h;\n",
    "        t_save[i_save] = (n)*dt;\n",
    "        i_save = i_save+1;\n",
    "  \n",
    "\n",
    "   # Compute the accelerations\n",
    "    u_accel = F[1:-1,1:-1]*v[1:-1,1:-1] \\\n",
    "              - (g/(2.*dx))*(H[2:,1:-1]-H[0:-2,1:-1]);\n",
    "    v_accel = -F[1:-1,1:-1]*u[1:-1,1:-1] \\\n",
    "              - (g/(2.*dy))*(H[1:-1,2:]-H[1:-1,0:-2]);\n",
    "    h_accel = hsrc # height source (heating)\n",
    "\n",
    "   # Call the Lax-Wendroff scheme to move forward one timestep\n",
    "    (unew, vnew, h_new) = lw.lax_wendroff(dx, dy, dt, g, u, v, h, u_accel, v_accel, h_accel);\n",
    "\n",
    "   # Update the wind and height fields, taking care to enforce \n",
    "   # boundary conditions \n",
    "    \"\"\"\n",
    "    u = unew([end 1:end 1],[1 1:end end]);\n",
    "    v = vnew([end 1:end 1],[1 1:end end]);\n",
    "    v(:,[1 end]) = 0;\n",
    "    h(:,2:end-1) = h_new([end 1:end 1],:);\n",
    "    \"\"\"\n",
    "    u[1:-1,1:-1] = unew[0:,0:];\n",
    "    u[[-1,0],1:-1]  = unew[[0,-1],:]\n",
    "    u[1:-1,[0,-1]]  = unew[:,[0,-1]]\n",
    "\n",
    "    v[1:-1,1:-1] = vnew[0:,0:];\n",
    "    v[[-1,0],0]  = vnew[[0,-1],0]\n",
    "    v[1:-1,[0,-1]]  = vnew[:,[0,-1]]\n",
    "   \n",
    "    v[:,[0, -1]] = 0.;\n",
    "\n",
    "    h[1:-1,1:-1] = h_new[0:,0:];\n",
    "    h[[0,-1],1:-1]  = h_new[[-1,0],:]\n",
    "\n",
    "\n",
    "print('Run completed successfully');"
   ]
  },
  {
   "cell_type": "markdown",
   "metadata": {},
   "source": [
    "### plot and save figures"
   ]
  },
  {
   "cell_type": "code",
   "execution_count": 67,
   "metadata": {
    "code_folding": [
     27,
     30
    ]
   },
   "outputs": [
    {
     "name": "stdout",
     "output_type": "stream",
     "text": [
      "Maximum orography height = 0.000000 m\n"
     ]
    }
   ],
   "source": [
    "import matplotlib.pyplot as plt\n",
    "from matplotlib import rc\n",
    "\n",
    "# create a folder in the current directory\n",
    "os.system('rm -r fig');os.system('mkdir fig')\n",
    "\n",
    "#f,(ax1, ax2) = plt.subplots(2, sharex=True, sharey=False)\n",
    "f=plt.figure(figsize=(12,10))\n",
    "ax1=plt.subplot(2,1,1)\n",
    "ax2=plt.subplot(2,1,2)\n",
    "\n",
    "#ax1.autoscale(enable=True, axis='y', tight=True)\n",
    "\n",
    "# Axis units are thousands of kilometers (x and y are in metres)\n",
    "x_1000km = x * 1.e-6\n",
    "y_1000km = y * 1.e-6\n",
    "\n",
    "# Set colormap to have 64 entries\n",
    "ncol=64;\n",
    "\n",
    "# Interval between arrows in the velocity vector plot\n",
    "interval = 6;\n",
    "\n",
    "# Set this to \"True\" to save each frame as a png file\n",
    "plot_frames = True;\n",
    "\n",
    "# Decide whether to show height in metres or km\n",
    "if np.mean(plot_height_range) > 1000:\n",
    "    height_scale = 0.001;\n",
    "    height_title = 'Height (km)';\n",
    "else:\n",
    "    height_scale = 1;\n",
    "    height_title = 'Height (m)';\n",
    "\n",
    "\n",
    "print('Maximum orography height = %f m' % np.max(H[:]));\n",
    "u = np.squeeze(u_save[:,:,0]);\n",
    "vorticity = np.zeros(np.shape(u));\n",
    "\n",
    "# Loop through the frames of the animation\n",
    "for it in range(0,noutput):\n",
    "\n",
    "    # Extract the height and velocity components for this frame\n",
    "    h = np.squeeze(h_save[:,:,it]);\n",
    "    u = np.squeeze(u_save[:,:,it]);\n",
    "    v = np.squeeze(v_save[:,:,it]);\n",
    "\n",
    "    # Compute the vorticity\n",
    "    vorticity[1:-1,1:-1] = (1./dy)*(u[1:-1,0:-2]-u[1:-1,2:]) \\\n",
    "      + (1./dx)*(v[2:,1:-1]-v[0:-2,1:-1]);\n",
    "  \n",
    "# First plot the height field\n",
    "    if it==0:\n",
    "\n",
    "        # Plot the height field\n",
    "        im=ax1.imshow(np.transpose(h+H), \\\n",
    "         extent=[np.min(x_1000km),np.max(x_1000km),np.min(y_1000km),np.max(y_1000km)], \\\n",
    "         cmap='jet')\n",
    "        # Set other axes properties and plot a colorbar\n",
    "        cb1=plt.colorbar(im,ax=ax1,shrink=0.5)\n",
    "        cb1.set_label('height (m)')\n",
    "        # Contour the terrain:\n",
    "        cs=ax1.contour(x_1000km,y_1000km,np.transpose(H),levels=np.arange(0,100,10), colors='k')\n",
    "\n",
    "        # Plot the velocity vectors\n",
    "        Q = ax1.quiver(x_1000km[2::interval],y_1000km[2::interval], \\\n",
    "         np.transpose(u[2::interval,2::interval]), \\\n",
    "         np.transpose(v[2::interval,2::interval]), scale=1,scale_units='xy',pivot='mid')\n",
    "        ax1.set_ylabel('Y distance (1000s of km)');\n",
    "        ax1.set_title(height_title);\n",
    "        tx1=ax1.text(0, np.max(y_1000km), 'Time = %.1f hours' % (t_save[it]/3600.));\n",
    "\n",
    "        # Now plot the vorticity\n",
    "        im2=ax2.imshow(np.transpose(vorticity), \\\n",
    "         extent=[np.min(x_1000km),np.max(x_1000km),np.min(y_1000km),np.max(y_1000km)], \\\n",
    "         cmap='jet',vmax=1e-5,vmin=-1e-5)\n",
    "        # Set other axes properties and plot a colorbar\n",
    "        cb2=plt.colorbar(im2,ax=ax2,shrink=0.5)\n",
    "        cb2.set_label('vorticity (s$^{-1}$)')\n",
    "        ax2.set_xlabel('X distance (1000s of km)');\n",
    "        ax2.set_ylabel('Y distance (1000s of km)');\n",
    "        ax2.set_title('Relative vorticity (s$^{-1}$)');\n",
    "        tx2=ax2.text(0, np.max(y_1000km), 'Time = %.1f hours' % (t_save[it]/3600.));\n",
    "        \n",
    "        plt.tight_layout()\n",
    "\n",
    "    else:\n",
    "        # top plot:\n",
    "        im.set_data(np.transpose(H+h))\n",
    "        cs.set_array(np.transpose(h))\n",
    "        Q.set_UVC(np.transpose(u[2::interval,2::interval]), \\\n",
    "               np.transpose(v[2::interval,2::interval]))\n",
    "        tx1.set_text('Time = %.1f hours' % (t_save[it]/3600.));\n",
    "\n",
    "        # bottom plot:\n",
    "        im2.set_data(np.transpose(vorticity))\n",
    "        tx2.set_text('Time = %.1f hours' % (t_save[it]/3600.));\n",
    "\n",
    "    im.set_clim((plot_height_range));\n",
    "    im2.set_clim((-1e-5,1e-5));\n",
    "    ax1.axis((0., np.max(x_1000km), 0., np.max(y_1000km)));\n",
    "    ax2.axis((0., np.max(x_1000km), 0., np.max(y_1000km)));\n",
    "    \n",
    "    # To make an animation we can save the frames as a \n",
    "    # sequence of images\n",
    "    if plot_frames:\n",
    "        plt.savefig('./fig/frame%03d.png' % it,format='png',dpi=200)\n",
    "\n",
    "#    plt.pause(0.1)"
   ]
  },
  {
   "cell_type": "code",
   "execution_count": 68,
   "metadata": {},
   "outputs": [
    {
     "name": "stdout",
     "output_type": "stream",
     "text": [
      "frame000.png frame017.png frame034.png frame051.png frame068.png frame085.png\r\n",
      "frame001.png frame018.png frame035.png frame052.png frame069.png frame086.png\r\n",
      "frame002.png frame019.png frame036.png frame053.png frame070.png frame087.png\r\n",
      "frame003.png frame020.png frame037.png frame054.png frame071.png frame088.png\r\n",
      "frame004.png frame021.png frame038.png frame055.png frame072.png frame089.png\r\n",
      "frame005.png frame022.png frame039.png frame056.png frame073.png frame090.png\r\n",
      "frame006.png frame023.png frame040.png frame057.png frame074.png frame091.png\r\n",
      "frame007.png frame024.png frame041.png frame058.png frame075.png frame092.png\r\n",
      "frame008.png frame025.png frame042.png frame059.png frame076.png frame093.png\r\n",
      "frame009.png frame026.png frame043.png frame060.png frame077.png frame094.png\r\n",
      "frame010.png frame027.png frame044.png frame061.png frame078.png frame095.png\r\n",
      "frame011.png frame028.png frame045.png frame062.png frame079.png frame096.png\r\n",
      "frame012.png frame029.png frame046.png frame063.png frame080.png frame097.png\r\n",
      "frame013.png frame030.png frame047.png frame064.png frame081.png frame098.png\r\n",
      "frame014.png frame031.png frame048.png frame065.png frame082.png frame099.png\r\n",
      "frame015.png frame032.png frame049.png frame066.png frame083.png frame100.png\r\n",
      "frame016.png frame033.png frame050.png frame067.png frame084.png\r\n"
     ]
    }
   ],
   "source": [
    "!ls ./fig/"
   ]
  },
  {
   "cell_type": "code",
   "execution_count": 69,
   "metadata": {},
   "outputs": [],
   "source": [
    "!open ./fig/frame???.png"
   ]
  },
  {
   "cell_type": "code",
   "execution_count": 14,
   "metadata": {},
   "outputs": [
    {
     "data": {
      "text/plain": [
       "<matplotlib.image.AxesImage at 0x11275fb38>"
      ]
     },
     "execution_count": 14,
     "metadata": {},
     "output_type": "execute_result"
    }
   ],
   "source": [
    "plt.imshow(hsrc.transpose())"
   ]
  },
  {
   "cell_type": "code",
   "execution_count": 15,
   "metadata": {},
   "outputs": [
    {
     "data": {
      "text/plain": [
       "1.0000000000000001e-05"
      ]
     },
     "execution_count": 15,
     "metadata": {},
     "output_type": "execute_result"
    }
   ],
   "source": [
    "hsrc.max()"
   ]
  },
  {
   "cell_type": "code",
   "execution_count": null,
   "metadata": {},
   "outputs": [],
   "source": []
  }
 ],
 "metadata": {
  "anaconda-cloud": {},
  "kernelspec": {
   "display_name": "Python [default]",
   "language": "python",
   "name": "python3"
  },
  "language_info": {
   "codemirror_mode": {
    "name": "ipython",
    "version": 3
   },
   "file_extension": ".py",
   "mimetype": "text/x-python",
   "name": "python",
   "nbconvert_exporter": "python",
   "pygments_lexer": "ipython3",
   "version": "3.5.5"
  }
 },
 "nbformat": 4,
 "nbformat_minor": 2
}
